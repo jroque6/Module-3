{
  "metadata": {
    "kernelspec": {
      "name": "xpython",
      "display_name": "Python 3.13 (XPython)",
      "language": "python"
    },
    "language_info": {
      "file_extension": ".py",
      "mimetype": "text/x-python",
      "name": "python",
      "version": "3.13.1"
    }
  },
  "nbformat_minor": 5,
  "nbformat": 4,
  "cells": [
    {
      "id": "ce4e730c-6477-4496-9a30-a9505ec0383d",
      "cell_type": "code",
      "source": "def sort012(arr):\n    arr.sort()\n\nif __name__ == \"__main__\":\n    arr = [0, 1, 2, 0, 1, 2]\n    sort012(arr)\n    \n    for num in arr:\n        print(num, end=\" \")",
      "metadata": {
        "trusted": true
      },
      "outputs": [
        {
          "name": "stdout",
          "output_type": "stream",
          "text": "0 0 1 1 2 2 "
        }
      ],
      "execution_count": 1
    },
    {
      "id": "129f4d82-016d-4962-950e-2091e09a4ea3",
      "cell_type": "code",
      "source": "",
      "metadata": {
        "trusted": true
      },
      "outputs": [],
      "execution_count": null
    }
  ]
}