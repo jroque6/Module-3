{
  "metadata": {
    "kernelspec": {
      "name": "python",
      "display_name": "Python (Pyodide)",
      "language": "python"
    },
    "language_info": {
      "codemirror_mode": {
        "name": "python",
        "version": 3
      },
      "file_extension": ".py",
      "mimetype": "text/x-python",
      "name": "python",
      "nbconvert_exporter": "python",
      "pygments_lexer": "ipython3",
      "version": "3.8"
    }
  },
  "nbformat_minor": 5,
  "nbformat": 4,
  "cells": [
    {
      "id": "132bf64f-df25-4d6c-951a-a431a7bceeb7",
      "cell_type": "code",
      "source": "## 7.4 - 7.7",
      "metadata": {
        "trusted": true
      },
      "outputs": [],
      "execution_count": null
    },
    {
      "id": "0b1e64de-43a7-44f2-a4c0-c0b5853ccc07",
      "cell_type": "code",
      "source": "things = (\"mozzarella\", \"cinderella\", \"salmonella\")\nprint (things)",
      "metadata": {
        "trusted": true
      },
      "outputs": [
        {
          "name": "stdout",
          "output_type": "stream",
          "text": "('mozzarella', 'cinderella', 'salmonella')\n"
        }
      ],
      "execution_count": 6
    },
    {
      "id": "00e77e4f-0fbd-4829-8c46-5ad64cd50e14",
      "cell_type": "code",
      "source": "things = (\"mozzarella\", \"Cinderella\", \"salmonella\")\nprint (things)",
      "metadata": {
        "trusted": true
      },
      "outputs": [
        {
          "name": "stdout",
          "output_type": "stream",
          "text": "('mozzarella', 'Cinderella', 'salmonella')\n"
        }
      ],
      "execution_count": 5
    },
    {
      "id": "a0ec34cd-27e7-4499-9981-34832f38ef1a",
      "cell_type": "code",
      "source": "things = (\"MOZZARELLA\", \"cinderella\", \"salmonella\")\nprint (things)",
      "metadata": {
        "trusted": true
      },
      "outputs": [
        {
          "name": "stdout",
          "output_type": "stream",
          "text": "('MOZZARELLA', 'cinderella', 'salmonella')\n"
        }
      ],
      "execution_count": 7
    },
    {
      "id": "1ce49137-a8a4-4040-b53b-5c78a0fc3595",
      "cell_type": "code",
      "source": "things = (\"MOZZARELLA\", \"cinderella\", )\nprint (things)",
      "metadata": {
        "trusted": true
      },
      "outputs": [
        {
          "name": "stdout",
          "output_type": "stream",
          "text": "('MOZZARELLA', 'cinderella')\n"
        }
      ],
      "execution_count": 8
    },
    {
      "id": "286671d4-a06b-4874-a3e4-dd8315cd1705",
      "cell_type": "code",
      "source": "## 9.1 - 9.2",
      "metadata": {
        "trusted": true
      },
      "outputs": [],
      "execution_count": null
    },
    {
      "id": "bd2b7a2d-5929-4987-a6be-4ee120822cdf",
      "cell_type": "code",
      "source": "def good():\n    names = 'Harry', 'Ron', 'Hermione'\n    print(names)\n\ngood()",
      "metadata": {
        "trusted": true
      },
      "outputs": [
        {
          "name": "stdout",
          "output_type": "stream",
          "text": "('Harry', 'Ron', 'Hermione')\n"
        }
      ],
      "execution_count": 9
    },
    {
      "id": "0565f195-35c2-4f52-b117-f217badd1da7",
      "cell_type": "code",
      "source": "def get_odd():\n    return [n for n in range(10) if n % 2 == 1]\n\nodd = get_odd()\nprint(odd[2])",
      "metadata": {
        "trusted": true
      },
      "outputs": [
        {
          "name": "stdout",
          "output_type": "stream",
          "text": "5\n"
        }
      ],
      "execution_count": 13
    },
    {
      "id": "ad13e569-09bb-46c0-b79c-f5b7822fdcbd",
      "cell_type": "code",
      "source": "",
      "metadata": {
        "trusted": true
      },
      "outputs": [],
      "execution_count": null
    }
  ]
}