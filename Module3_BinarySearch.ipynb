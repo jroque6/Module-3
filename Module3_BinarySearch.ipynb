{
  "metadata": {
    "kernelspec": {
      "name": "python",
      "display_name": "Python (Pyodide)",
      "language": "python"
    },
    "language_info": {
      "codemirror_mode": {
        "name": "python",
        "version": 3
      },
      "file_extension": ".py",
      "mimetype": "text/x-python",
      "name": "python",
      "nbconvert_exporter": "python",
      "pygments_lexer": "ipython3",
      "version": "3.8"
    }
  },
  "nbformat_minor": 5,
  "nbformat": 4,
  "cells": [
    {
      "id": "9a7f3d17-1555-4868-92c1-d231977519be",
      "cell_type": "code",
      "source": "def binarysearch(arr, k):\n        low, high = 0, len(arr) - 1\n        result = -1\n\n        while low <= high:\n            mid = low + (high - low) // 2\n\n            if arr[mid] == k:\n                result = mid\n                high = mid - 1  # Search in the left half for the first occurrence\n            elif arr[mid] < k:\n                low = mid + 1\n            else:\n                high = mid - 1\n\n        return result\n\narr = [1, 2, 2, 3, 4, 5]\nk = 2\nprint(binarysearch(arr, k))",
      "metadata": {
        "trusted": true
      },
      "outputs": [
        {
          "name": "stdout",
          "output_type": "stream",
          "text": "1\n"
        }
      ],
      "execution_count": 8
    },
    {
      "id": "2b045e43-7c4a-4c90-b6bd-217cb93325c6",
      "cell_type": "code",
      "source": "",
      "metadata": {
        "trusted": true
      },
      "outputs": [],
      "execution_count": null
    },
    {
      "id": "cd5a0b2e-3872-4040-b6bb-088d5e40e81b",
      "cell_type": "code",
      "source": "",
      "metadata": {
        "trusted": true
      },
      "outputs": [],
      "execution_count": null
    }
  ]
}